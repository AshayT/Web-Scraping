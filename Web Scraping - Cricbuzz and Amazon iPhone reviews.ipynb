{
 "cells": [
  {
   "cell_type": "markdown",
   "metadata": {},
   "source": [
    "# Web Scraping using BeautifulSoup"
   ]
  },
  {
   "cell_type": "code",
   "execution_count": 1,
   "metadata": {},
   "outputs": [],
   "source": [
    "# Importing required libraries\n",
    "import requests               #for requesting information through url\n",
    "from bs4 import BeautifulSoup #for creating parse tree and extracting data\n",
    "import sys                    #for execption handling\n",
    "import time                   #for setting time delay while loading webpages"
   ]
  },
  {
   "cell_type": "markdown",
   "metadata": {},
   "source": [
    "### Scraping data from Cricbuzz website"
   ]
  },
  {
   "cell_type": "code",
   "execution_count": 2,
   "metadata": {},
   "outputs": [
    {
     "name": "stdout",
     "output_type": "stream",
     "text": [
      "Request accepted\n"
     ]
    }
   ],
   "source": [
    "try:                                                         #sometimes urls may not work and give error\n",
    "    url = 'https://www.cricbuzz.com/'                        #storing url a variable\n",
    "    response = requests.get(url)                             #requesting information through url\n",
    "    if str(response) == '<Response [200]>' :                 #checking the response given by url, Response [200] denotes success\n",
    "            print('Request accepted')\n",
    "except Exception:                                            #exception handling in case there's any problem w.r.t. url\n",
    "    error_type, error_obj, error_info  = sys.exc_info()\n",
    "    print('Error in link: ', url)\n",
    "    print(error_type)"
   ]
  },
  {
   "cell_type": "code",
   "execution_count": 3,
   "metadata": {},
   "outputs": [],
   "source": [
    "mysoup = BeautifulSoup(response.text, 'html.parser')         #parsing html text"
   ]
  },
  {
   "cell_type": "markdown",
   "metadata": {},
   "source": [
    "#### We want to extract the headlines of the posts. For example, the hightlighted text shown below:"
   ]
  },
  {
   "cell_type": "markdown",
   "metadata": {},
   "source": [
    "![alt text](cric.JPG \"Screenshot from the website\")\n"
   ]
  },
  {
   "cell_type": "code",
   "execution_count": 4,
   "metadata": {},
   "outputs": [],
   "source": [
    "news = mysoup.find_all('h2', class_ =\"big-crd-hdln\" ) #the headlines are in 'h2' tag and 'big-crd-hdln' class"
   ]
  },
  {
   "cell_type": "code",
   "execution_count": 5,
   "metadata": {},
   "outputs": [
    {
     "name": "stdout",
     "output_type": "stream",
     "text": [
      "\tRohit ton, Rahane fifty put India in control\n",
      "\n",
      "\n",
      "\tCornwall ends BAN resistance\n",
      "\n",
      "\n",
      "\tKedar, Harbhajan pick highest 2 crore auction bracket\n",
      "\n",
      "\n",
      "\tNew-look South Africa out to save series\n",
      "\n",
      "\n"
     ]
    }
   ],
   "source": [
    "for i in news:                                        #print the headlines\n",
    "    print(i.text)\n",
    "    print('\\n')"
   ]
  },
  {
   "cell_type": "markdown",
   "metadata": {},
   "source": [
    "### Web scraping reviews of iPhone 12 Pro Max (256 GB) from Amazon "
   ]
  },
  {
   "cell_type": "markdown",
   "metadata": {},
   "source": [
    "##### Collecting reviews from one page"
   ]
  },
  {
   "cell_type": "code",
   "execution_count": 9,
   "metadata": {},
   "outputs": [
    {
     "name": "stdout",
     "output_type": "stream",
     "text": [
      "Request accepted\n"
     ]
    }
   ],
   "source": [
    "try:  \n",
    "    amz = 'https://www.amazon.in/New-Apple-iPhone-Pro-256GB/product-reviews/B08L5T31M6/ref=cm_cr_arp_d_paging_btm?ie=UTF8&reviewerType=all_reviews' #storing the url a variable \n",
    "    response2 = requests.get(amz)                             #requesting information through url\n",
    "    if str(response2) == '<Response [200]>' :                 #checking the response given by url, Response [200] denotes success\n",
    "        print('Request accepted')\n",
    "except Exception:                                             #exception handling in case there's any problem w.r.t. url\n",
    "    error_type, error_obj, error_info  = sys.exc_info()\n",
    "    print('Error in link: ', url2)\n",
    "    print(error_type)"
   ]
  },
  {
   "cell_type": "code",
   "execution_count": 10,
   "metadata": {},
   "outputs": [],
   "source": [
    "mysoup2 = BeautifulSoup(response2.text, 'html.parser')      #parsing html text"
   ]
  },
  {
   "cell_type": "markdown",
   "metadata": {},
   "source": [
    "#### We want to extract the reviews of iPhone. For example, the hightlighted text shown below:"
   ]
  },
  {
   "cell_type": "markdown",
   "metadata": {},
   "source": [
    "![alt text](amz.JPG \"Screenshot of reviews from amazon\")"
   ]
  },
  {
   "cell_type": "code",
   "execution_count": 11,
   "metadata": {},
   "outputs": [],
   "source": [
    "reviews = mysoup2.find_all('div', class_ = \"a-row a-spacing-small review-data\")  #reviews are in 'div' tag and \"a-row a-spacing-small review-data\" class"
   ]
  },
  {
   "cell_type": "code",
   "execution_count": 12,
   "metadata": {},
   "outputs": [
    {
     "name": "stdout",
     "output_type": "stream",
     "text": [
      "\n",
      "\n",
      "  Over priced. And without charger too.Not recommended. It is a waste of money. Be logical enough to make a call on this.\n",
      "\n",
      "\n",
      "\n",
      "\n",
      "  Impressed! I’ve tested it with iphone11 and other iphones, it’s remarkable. It has unquestionably better video quality and touch sensitivity. The screen is bigger than I thought. I loved the Gold variant. But if u have a 11 max or a X max I wouldn’t suggest for an upgradation. I feel that the next iphone will have way more cooler features so wouldn’t hurt to wait. My previous iphone was 6, so in my case am totally peachy with this phone. Though it has a ceramic glass wouldn’t hurt to buy a screen guard. If u can afford it u can totally go 4 it.\n",
      "\n",
      "\n",
      "\n",
      "\n",
      "  This is the best iPhone yes. The Max model gives you the better screen and overall is a camera beast. I would highly recommend this to anyone. Regarding value for money, its sad that we live in a country where Falling Rupee, Import Duty and High GST are the reasons for such high poricing. A rich country like USA pays only $1099 (Rs. 81,500) whereas its priced a whopping Rs. 48,400 more in India. Thats slmost 60% more. Shame!\n",
      "\n",
      "\n",
      "\n",
      "\n",
      "  Pros: Great display, battery, cameras, usability, ease of access & a whole lot moreCons: Running out of Kidneys to sell to buy iPhones in India 😓\n",
      "\n",
      "\n",
      "\n",
      "\n",
      "\n",
      "  Your browser does not support HTML5 video.\n",
      "\n",
      "\n",
      "   Got copy\n",
      "\n",
      "\n",
      "\n",
      "\n",
      "  Just no words, what a beauty. Upgrading from iPhone X, this feels so big and heavy. But do not has much discomfort while using, you will get used to it.Make sure to get a decent Screen guard and clear case just to safeguard this beauty.\n",
      "\n",
      "\n",
      "\n",
      "\n",
      "  Had pre booked this iPhone 12 Pro Max. Amazon delivered it promptly within four days of launch. Kudos to thisclightening fast delivery.Now about device, Since I upgraded from 11, I could notice the difference between A13 and A14 speed. Miraculously faster. Performance wise this indeed is a notch up.Build quality is significantly improved. This design which Apple brought back from iPhone 5 series is absolutely lovely!  These two factors give it a classy and stylish look combined with solid and durable finish. The phone does feels premium when one holds it. All the more reasons to go ga-ga about this pretty beast!Phone is indeed pricey but if one can shell these bucks; you should not blink your eye before buying. The upgrade does provide you with enhanced durability, performance and looks!\n",
      "\n",
      "\n",
      "\n",
      "\n",
      "  I fell like the phone is bit expensive then it really should be but it's an Apple what can you say thay always one step ahead from ther competitors in terms of pricing..thay also took the charger this time to making more profit out of it..less carbon footprint my ass...but honestly saying accept the price the phone look nice and also fill good in hand not so heavy as i thought.... Display is nice but not as nice as oneplus flagship models... In terms of performance and camera quality iphone still batter then any other phone that available in the market..\n",
      "\n",
      "\n",
      "\n",
      "\n",
      "  Real beast! Its such a treat! All the wait was worth. Upgraded to pro max from iphone x after 2 years. Things have really changed a lot. Camera quality is awesome, night mode is unbelievably good and the best of all...is battery life. After spending whole day with heavy usage, its still about half. Using it with spigen cover and screen guard. Very happy with this new purchase. Using jio main sim with airtel e sim. Both are working smoothly.\n",
      "\n",
      "\n",
      "\n",
      "\n",
      "  The phone is a beast (except for the price which is really high as usual), can't wait for it to launch!\n",
      "\n",
      "\n"
     ]
    }
   ],
   "source": [
    "for review in reviews:        #printing reviews\n",
    "    print(review.text)"
   ]
  },
  {
   "cell_type": "markdown",
   "metadata": {},
   "source": [
    "##### Collecting reviews from ALL pages"
   ]
  },
  {
   "cell_type": "code",
   "execution_count": 17,
   "metadata": {},
   "outputs": [
    {
     "name": "stdout",
     "output_type": "stream",
     "text": [
      "Page:  1\n",
      "Request Accepted\n",
      "Number of reviews collected:  10\n",
      "Page:  2\n",
      "Request Accepted\n",
      "Number of reviews collected:  20\n",
      "Page:  3\n",
      "Request Accepted\n",
      "Number of reviews collected:  30\n",
      "Page:  4\n",
      "Request Accepted\n",
      "Number of reviews collected:  40\n",
      "Page:  5\n",
      "Request Accepted\n",
      "Number of reviews collected:  50\n",
      "Page:  6\n",
      "Request Accepted\n",
      "Number of reviews collected:  60\n",
      "Page:  7\n",
      "Request Accepted\n",
      "Number of reviews collected:  70\n",
      "Page:  8\n",
      "Request Accepted\n",
      "Number of reviews collected:  80\n",
      "Page:  9\n",
      "Request Accepted\n",
      "Number of reviews collected:  90\n",
      "Page:  10\n",
      "Request Accepted\n",
      "Number of reviews collected:  100\n",
      "Page:  11\n",
      "Request Accepted\n",
      "Number of reviews collected:  107\n",
      "Page:  12\n",
      "Request Accepted\n",
      "Number of reviews collected:  107\n"
     ]
    }
   ],
   "source": [
    "amz_reviews_list = []       #creating an empty list to store reviews\n",
    "i = 1                       #inializing web page number\n",
    "while True:                 #looping the code till reviews from all pages aree collected\n",
    "    time.sleep(2)           #setting time delay to avoid getting us tagged a robot\n",
    "    amz_url = 'https://www.amazon.in/New-Apple-iPhone-Pro-256GB/product-reviews/B08L5T31M6/ref=cm_cr_arp_d_paging_btm_next_'+str(i)+'?ie=UTF8&reviewerType=all_reviews&pageNumber='+str(i) #customizing the url to iterate and access different pages\n",
    "    try:                    #sometimes url may not work and give error\n",
    "        amz_resp = requests.get(amz_url)           #requesting information though the url\n",
    "        if str(amz_resp) == '<Response [200]>' :   #checking the response given by url, Response [200] denotes success\n",
    "            print('Page: ', i)                     #printing the page number accessing\n",
    "            print('Request Accepted')\n",
    "            i = i + 1                              #incrementing i to access next page\n",
    "            amz_soup = BeautifulSoup(amz_resp.text, 'html.parser')    #parsing the html text\n",
    "            amz_reviews = amz_soup.find_all('div', class_ = \"a-row a-spacing-small review-data\")   #the reviews are in 'div' tag and 'a-row a-spacing-small review-data' class\n",
    "            j = len(amz_reviews_list)              #checking the number of reviews stored\n",
    "            for amz_review in amz_reviews:         #accessing reviews one at a time\n",
    "                amz_reviews_list.append(str(amz_review.text).replace('\\n\\n', ''))   #adding each review to the list\n",
    "            print('Number of reviews collected: ', len(amz_reviews_list))          #printing the number of reviews collected so far\n",
    "            if j == len(amz_reviews_list):         #checking if all reviews are collected, if yes then breaking the while loop\n",
    "                break\n",
    "                \n",
    "    except exception as e:                         #exception handling in case there's any problem w.r.t. url\n",
    "        error_type, error_obj, error_info  = sys.exc_info()\n",
    "        print(error_type)\n",
    "        print('problem with url: ', amz_url)\n",
    "        "
   ]
  },
  {
   "cell_type": "code",
   "execution_count": 18,
   "metadata": {},
   "outputs": [
    {
     "data": {
      "text/plain": [
       "['  Over priced. And without charger too.Not recommended. It is a waste of money. Be logical enough to make a call on this.',\n",
       " '  Impressed! I’ve tested it with iphone11 and other iphones, it’s remarkable. It has unquestionably better video quality and touch sensitivity. The screen is bigger than I thought. I loved the Gold variant. But if u have a 11 max or a X max I wouldn’t suggest for an upgradation. I feel that the next iphone will have way more cooler features so wouldn’t hurt to wait. My previous iphone was 6, so in my case am totally peachy with this phone. Though it has a ceramic glass wouldn’t hurt to buy a screen guard. If u can afford it u can totally go 4 it.',\n",
       " '  This is the best iPhone yes. The Max model gives you the better screen and overall is a camera beast. I would highly recommend this to anyone. Regarding value for money, its sad that we live in a country where Falling Rupee, Import Duty and High GST are the reasons for such high poricing. A rich country like USA pays only $1099 (Rs. 81,500) whereas its priced a whopping Rs. 48,400 more in India. Thats slmost 60% more. Shame!',\n",
       " '  Pros: Great display, battery, cameras, usability, ease of access & a whole lot moreCons: Running out of Kidneys to sell to buy iPhones in India 😓',\n",
       " '\\n  Your browser does not support HTML5 video.\\n  \\xa0Got copy',\n",
       " '  Just no words, what a beauty. Upgrading from iPhone X, this feels so big and heavy. But do not has much discomfort while using, you will get used to it.Make sure to get a decent Screen guard and clear case just to safeguard this beauty.',\n",
       " '  Had pre booked this iPhone 12 Pro Max. Amazon delivered it promptly within four days of launch. Kudos to thisclightening fast delivery.Now about device, Since I upgraded from 11, I could notice the difference between A13 and A14 speed. Miraculously faster. Performance wise this indeed is a notch up.Build quality is significantly improved. This design which Apple brought back from iPhone 5 series is absolutely lovely!  These two factors give it a classy and stylish look combined with solid and durable finish. The phone does feels premium when one holds it. All the more reasons to go ga-ga about this pretty beast!Phone is indeed pricey but if one can shell these bucks; you should not blink your eye before buying. The upgrade does provide you with enhanced durability, performance and looks!',\n",
       " \"  I fell like the phone is bit expensive then it really should be but it's an Apple what can you say thay always one step ahead from ther competitors in terms of pricing..thay also took the charger this time to making more profit out of it..less carbon footprint my ass...but honestly saying accept the price the phone look nice and also fill good in hand not so heavy as i thought.... Display is nice but not as nice as oneplus flagship models... In terms of performance and camera quality iphone still batter then any other phone that available in the market..\",\n",
       " '  Real beast! Its such a treat! All the wait was worth. Upgraded to pro max from iphone x after 2 years. Things have really changed a lot. Camera quality is awesome, night mode is unbelievably good and the best of all...is battery life. After spending whole day with heavy usage, its still about half. Using it with spigen cover and screen guard. Very happy with this new purchase. Using jio main sim with airtel e sim. Both are working smoothly.',\n",
       " \"  The phone is a beast (except for the price which is really high as usual), can't wait for it to launch!\",\n",
       " '\\n  Your browser does not support HTML5 video.\\n  \\xa0Apple’s latest flagship makes useful advances over its predecessor in almost every way. Image quality is very good, autofocus is lightning fast and accurate, detail is high, and colors are generally pleasant. Apple remains a leader in preview performance, so what you see when composing a shot looks a lot like the final result. Dynamic range could be better, but mobile photographers should be pleased overall.This iPhone’s weakest link is its lack of long zoom capability, something we’re seeing more of in flagships from the competition. If reach is paramount to you, then there are other phones that excel in this metric (but none that run iOS).Video performance overall is excellent, just short of the best we’ve seen. Wide dynamic range, good color, low noise, and effective stabilization make this iPhone a good choice for users who prioritize video capabilities.For mobile photographers committed to the iOS ecosystem and ready to part with the hefty purchase price, the iPhone 12 Pro Max shouldn’t disappoint.',\n",
       " '  Great sound , great display and camera. Mind blowing design .... Superb .....loved it ..',\n",
       " '  This is the ‘all we can do’ offering of iPhone from Apple in 2020. The phone runs smooth and fast, as expected. A14 Bionic crushes everything you can throw at it with it keeping apps open in the background with zero issues. The battery lasts all day. The camera is amazing and it’s quite a big improvement coming from an iPhone 7 Plus. The screen is vibrant and the speakers sound like a good quality Bluetooth speaker. The pacific blue color is beautiful as well. Looks like grey in certain lighting. However, since this is the biggest iPhone Apple has ever made, I would recommend holding the phone in person before buying as this phone is huge & some people can find it uncomfortable at 6.7 inches. Many people can get 90% of what this phone offers in the smaller 12 Pro. That being said, if you want the biggest screen, the biggest battery on an iPhone and as long as you know what you’re getting into with the size, and you have the money to spend, would recommend this phone 10/10.',\n",
       " '  Best!! I am a new user of iphone..',\n",
       " '  Phone call get disconnected all the time',\n",
       " '  Well, integration with MacBook Pro. (Apple ecosystem)Highly recommended business phone. (Security and Privacy feature)I am a lifelong Android user, After a thorough review finally decided to go with the Apple iPhone 12 Pro Max instead of Note 20 Ultra',\n",
       " '  Enough has been said already about this phone. There are several reviews out there to help you decide whether or not to get this phone.I’d totally recommend this to anyone out there who’s looking for the best possible investment in a smartphone, considering money’s not an issue.That 1% of people who are going to buy this phone will get their money’s worth over a considerable amount of time.It delivers great real estate in terms of a huge display and bigger battery. Performance wise it’s a beast of a phone, with a much superior processor and chipset than it’s competition and predecessors. Delivering benchmark quality in every single aspect.So yeah, all in all an extremely worthy buy if you can afford that kind of money for a phone. Also, that Pacific Blue finish is by far the most elegant piece of art in a smartphone ever. Takes it to the next level in terms of look and feel. Luxury personified.10/10 recommend if you’ve the pocket to afford it.',\n",
       " '  The phone is a beast. Slightly overpriced, as always. Please choose colours except gold. Everything else is good. Good camera quality even in low light. Need to test the 4K HDR video recording. Esim is working fine.',\n",
       " '\\n  Your browser does not support HTML5 video.\\n  \\xa0Finally!! Upgraded from iPhone 7 Plus to this BEAST. Big Size, Longer Battery, Impressive Image Quality (specially 4K HDR Video) and the new A14 Bionic Chip is incredibly Fast!!!! Looks beautiful in Pacific Blue. Bought it for ₹1,29,000/- (Storage-256GB)Delivery & Handling- I ordered the device on 1st January and it was arrived on 6th January maybe due to non availability. But the worst part is that when the delivery guy came he could not hold the packet properly and dropped it accidentally on the road but product was packed well nothing went wrong.🙏😅Best iPhone i’ve ever had!!!! 🔥🔥It reminds me of my old iPhone 5S.If you’re still thinking to purchase it, just do it you’ll never regret. ✌️✌️',\n",
       " '  Awesome device. Total beast of a phone with a fat price tag but I love it and am totally satisfied, that’s what matters',\n",
       " '  The phone crashed within 5 days of purchase. And is lying dead ever since.',\n",
       " '  Round edges of iPhone 11 Pro Max feels much better than the flat edges, and screen doesn’t stay level if one play games on it like call off duty or pubg slight dimples appears on the screen also if one play pubg for more than 20 minutes the handset warms up.',\n",
       " \"  I have upgraded from iPhone X. There's nothing much you can ask for this phone does it all and its a beast. The screen size slightly felt big for a day or two but I got used to it. Camera on this phone is something which really stands out and also the battery is very good. Easily I get 7 hrs of screen on time. If budget is not a problem it is better to get the pro max than pro variant. Overall its a great upgrade!\",\n",
       " '  Missing lots of feature if you come from Android otherwise good.The simplest review.',\n",
       " '  Great product.',\n",
       " '  Amazing machine: beautiful new design: if you can afford then go for it as it gives you a feel of super phone.',\n",
       " '  Nothing to dislike!! This thing is a beast..in love with its design it looks perfect in hands !!',\n",
       " '  I phone is the best phone',\n",
       " '  Go for it, you will never regret , if you have budget to take this.',\n",
       " '  The Best iPhone till date ✌️✌️Battery Life is good!Screen is awesome!!Cameras are best in the class!',\n",
       " \"  It's Just Mind BlowingThe feel of real old iphone with modren Features\",\n",
       " '  You won’t regret buying this phone.',\n",
       " '  PERFECT, KEEP IT UP',\n",
       " '  Best of iPhone models, so far!',\n",
       " '  dislike',\n",
       " '  Great phone. Got the Pacific Blue during pre order. Its a little big to hold with one hand and heavy.',\n",
       " '  Nothing to say about Apple products... they are awesome ! Just one thing apart.. The Price....',\n",
       " '  What a grt phone... superfast speed... camera quality is grt...',\n",
       " '  Best iPhone ever. Best screen and camera',\n",
       " '  Really beast really Value for money.. battery 5star',\n",
       " '  Good phone delivery on time',\n",
       " '  Best specs till now',\n",
       " '  Why people do this stupid thingsLoL, is that worth it to buy an expensive iphone for only ...!!😂😂😂You understand',\n",
       " '  Amazing',\n",
       " '  Only for an iPhone fan',\n",
       " '  Hard look bolte😍😍',\n",
       " '\\n  Your browser does not support HTML5 video.\\n  \\xa0A biggie which cant be forgotten',\n",
       " '  total price 139900 1 January offer is 124900 just for wait for anther 2 months prices 100000 offer',\n",
       " \"  I'm impressed for the design\",\n",
       " \"  It's price is too high\",\n",
       " '  Nyccc phone charger not ni box😭😭',\n",
       " '  Great product and very timely delivery',\n",
       " '  Excellent phone',\n",
       " '  best battery n dispay',\n",
       " '  Good',\n",
       " '  Good',\n",
       " '  You have to sell your kedney to buy this phone!! It better you can a cheap phone with same feature',\n",
       " '  Let’s just be honest for a moment if you are buying a phone worth a lakh or more you will not think twice about buying a charger separately...Also the phone has amazing Camera, the best in class videos the display is just brilliant and the video and picture watching experience is goodAs it comes with stereo speakers the sound is incredible ( had put the phone under water while playing music and still it was loud enough)No doubt in performanceOnly complaint is about battery, as the display is bigger and better than ever before so slight improvement needed therePS: I don’t like to use case or screen guard on the phone but wouldn’t risk on this one as its not scratch proof at all , frankly it got more scratches than my iPhone Se (2nd Gen)Peace out ✌🏻',\n",
       " '  The phone is just a bomb. big display and battery. the real issue is its 60% more than its release price. its all thanks to falling INR, import duty and tax over everything. The real problem is it is 1.4Lakh rs while average people earn 30k rs per month. While outside india (eg. U.S) the price is $1,100 while average people earns $5,000 per month. so if youre in U.S you can just get an iphone and live accordingly with rest money. but in India , youll have to take the entire salary + sell your kidney + borrow extra money to live after everything.I suggest to get a phone like this after settling outside or be ready to donate some organs.',\n",
       " '  I gifted it to my husband for our 2nd wedding anniversary..the perfect date Amazone delivered it to door step...it was a morning surprise shock to my husband.awsome I phone.stylish design,superb camera quality, everything wow wow.,.......thank u so much.....',\n",
       " \"  As an avid iphone user , just want to add a thought, since many say selling kidneys to buy this is really crazy , 5000 x 24 months gets you this iphone & earning 5k surplus is not that hard & we know how many of them spend 5k in bars everymonth ,  so please don't put down image of Indians by repeating thoseThis phone is highly techincal , super secured & very rugged with Amazing camera , Lidar & Dolby shoot is awesome , go for it only if you have passion for this , thank you\",\n",
       " '  Overpriced for nothing. People might get angry at me for saying this, but this is the one of the many reasons why people buy androids instead.',\n",
       " \"  Model: iPhone 12 Pro Max (256GB) - Pacific BlueAs always, it packs with the best display, best camera and best interface.But the battery backup is the cherry on the cake, the trolls for iPhone battery issues will finally come to an end.The only issue I am facing is the lack of touch id, as face id doesn't work with the mask on, even on trying with the multiple ways as shown on the internet.Overall it is a perfect super-phone.If anyone have a  budget, iPhone 12 pro max is the one, you should go for.\",\n",
       " \"  Coming from S9plus, this feels like a major upgrade interms of every aspect.. mainly battery life, performance and camera. The display is not a high refresh one, but still its smooth enough, true to life colours and sharp. Overall it's a very reliable phone. If you can spend the money then just go for it.\",\n",
       " \"  If you don't have an iPhone then you don't have an iphone.pricing is too bit high for this...Overall goodDelivery on time\",\n",
       " '  camera is excellent but battery performance is poor and charging time is too high.. and most important apple now want your liver too with kidney as it is not providing adaptor with box saying that people have already a charger, Apple needs to confirm in which I phone apple provide a C Type adaptor.',\n",
       " '  Not a valueable product.. Because there are lot of mobiles better than this.. The features that are promted by apple has nothing to do with your day to day life, all the features that it has are also available in any mid range phone .. It is just a piece of showoff and luxury...',\n",
       " '  The best iPhone design since 5S.Loving the screen and battery backup. Smooth performance. Loving my phone. Highly recommended to everyone who prefers battery performance, camera and the smooth ios performance.',\n",
       " '  Great phone but misses out on 120hz displayNo usb-c can be inconvenient some times.Speakers could be a bit louder too',\n",
       " '  Great phone but overpriced I purchase this phone from dubai only at 94kCamera is great display is great design is awesome',\n",
       " '  Best Iphone on the planet...best camera ...best battery.. Little expensive but worth every penny... go for it..... 👍🏻👍🏻👍🏻 Great deal',\n",
       " '  Superb phone everything is awesome loved it thanks a lot apple for making this phone this phone is a must buy and the price hurts a little bit but the phone is excellent',\n",
       " '  Good features handset with effective speed with upgraded technology and increase in refresh rate should have been considered. Sheerness and practical application',\n",
       " '  Great phone don’t believe the hate .Wanna try it buy it .As an hardcore S series user i am very happy with the change to iphone.',\n",
       " '  Iphone 12 pro is one of the best phone everGoodCamera dam sure 100% goodJust say awesomePhone gives premium look',\n",
       " '  Iphone 12 pro max in “battery life” is the best and display!\\uf8ff Iphone 12 pro max software optimization is the best..',\n",
       " '  I wasnt an iPhone lover, until I bought this beauty.Beyond my imagination. I just love it in my hand.',\n",
       " '  Good mobile  from iphone camera is very good thikness is also good I love this phone iPhone 12 pro max',\n",
       " '  Best phone ever  years ahead of other brandsA14 bionic boats speed x5 so I give it 5 star ⭐⭐⭐⭐⭐',\n",
       " '  This IPhone is the most excellent,  beautiful & really a max phone. I have never sawn such a best design and the next generation phone and the camera has best clarity. I LOVE ALL  APPLE PRODUCTS.',\n",
       " \"  Very waste product for this value don't at all allbuy because there's no charger brick in the box and they are charging extra nearly 3000 for the charger brick and for original case extra 5000 to 8000\",\n",
       " '  Awesome battery life and value for money buy to feel it i have just upgraded my 11 pro max to 12 pro max',\n",
       " '  I am a student I want to have this product in return I will make ten videos on youtube about this phoneWith this buying link',\n",
       " \"  Very costly I literally sold my bike to buy and I don't know what to do with I phone know\",\n",
       " '  Apple Should stop Manufacturing Phones and find a legal way beg money.One has to spend so much !! No charge is provided !!',\n",
       " \"  I got this iPhone 12 pro max after getting my kidney sold. It's a nice phone. The only problem is that sometimes my stomach hurts. 🥺🥺🥺🥺\",\n",
       " '  Value for money ....Happy with the product .Thank you .But add the charger adapter .Please .',\n",
       " '  Must buyAmazing product... 🌀The best smartphone of the year goes to 🍏 apple iPhone 12 mini also pro and max',\n",
       " '  I think apple should invest more in their battery performance it is a china made product with a apple branding.',\n",
       " '  Want you buy iphone but have sell 1 kidney and bloodFeeling to buy new kidneys s s s s',\n",
       " '  I dont liked it bcoz to make a call from this is very logical and not recommended to buy Dont buy this',\n",
       " '  Woooow what aa phone .. awesome camera s . excellent work and look  love u apple . superb, brillant .',\n",
       " '  I LOVED WHEN I SAW THE KNIFE CUT EDGES FOR THE FIRST TIME. JUST WOW !! THE BEST PHONE TO HAVE .',\n",
       " '  If I had this much money, I would have bought it i Phone 12 #wish!!  Such an amazing phone 😍😍',\n",
       " '  Paisa vasool phoneMind-blowing phone i have no words for it. Its just awesome.Camera 5/5 Lidar works very good.Battery backup 5/5Performance 5/5 gaming experience very smooth.Display 5/5 very thin edgesSound quality 5/5 serious feels like pocket JBL, clear sound with bass.At last for its looks 5/5',\n",
       " \"  I have been into apple ecosystem since iPhone 4s.Since Apple started to move to larger displays they eventually let go the square design which I was missing a lot and did not hope that It ll ever comeback.The time when I saw they are bringing back the squared flat design I was blown away.I pre-ordered from Amazon as soon as it was available.Thanks to amazon I got the delivery on 14th.As soon as I unboxed it I was like wow.The phone feels ultra premium in hand with stainless steel borders and matte finish back.The display lives upto the standards of Apple.Battery life is at par with last year iPhones,though on paper it has a smaller battery.Coming to the camera samples it is again the best camera in a smartphone curretly.The 10bit HDR video is amazing.They have incorporated sensor shift stabilization which I am yet to test.Some of the pros and cons :Pros :DesignLow light camera shotsHDR VideoBattery lifeA14 5nm bionic chipCons:Price is relatively high compared to other marketsNo Charging adapter(might be a huge letdown for people newly moving to iOS)No high refresh rate displays(Although the display does not feel slow )What I felt :I upgraded from 11 Pro Max.For an average user you ll not find a huge difference in terms of overall usage and experience.The size might not be a fit for everyone since its really huge.I am yet to test the magsafe accessories as these aren't available on Amazon yet.So if some one looking to upgrade from iPhone XS or older ,will be a huge upgrade in terms of camera ,performance,battery life etc.Overall,its actually the best iPhone with the all time fav design WITH AN ULTRA PRO MAX PREMIUM COST :p(I ll add camera samples and edit this review after few months of usage)\",\n",
       " '  iPhone just become bad quality day by day. Only good is there IOS. I don’t see any other point to use iPhone if they don’t have IOS.',\n",
       " '  Totally worth the money! Superb phone. Very sleek and pretty! The camera is really next level. Low light photos are just unbelievable!',\n",
       " '  Apple claims that the display screen is the brightest yet. But when I compare it with my XS MAX, the iPhone pro Max is distinctly yellowish and not as bright. There is definitely a problem with the new Apple phones - BUYER BEWARE!',\n",
       " '  Apple Phone is not activated even after one hour. Guys I suggest if you intend to buy such an expensive gadgetavoid buying online.',\n",
       " '  1 no.....👌',\n",
       " '  ❤️ it.',\n",
       " '  Best phone but price is a bit high',\n",
       " '  I’ve been an android user forever and very honestly this is my first iPhone ever. Are there things that can be better, definitely there are and there will always be. That being said is this one of the best phones I’ve ever had, I would say definitely yes. Everything about it is very intuitive, fast and well put together. Could this phone have been more reasonably priced, definitely yes but no one flashed their iPhones or “i” anything because they were so cheap to buy and maintain. There are a lot of things done well and a couple of them are the camera and battery, yes you heard me right the battery in this phone is amazing. I am a heavy user my screen remains on for the better part of 8-10 hours a day and I get on an average 30-45 calls everyday but I end up charging this phone only once in 2 days.',\n",
       " '\\n  Your browser does not support HTML5 video.\\n  \\xa0Best smartphone you can ask for. Biggest available size, best camera quality, decent battery backup, phone is a bit on the heavier side though.',\n",
       " '  Two supper sliver iPhone 12 pro max 256 on hands with dark green colour case look great in green colour',\n",
       " '  Loved.it best phone ever  loved it loved the design body camera is awesom feels like hloding mixure of iPhone 4 and iPhone 11 Pro max']"
      ]
     },
     "execution_count": 18,
     "metadata": {},
     "output_type": "execute_result"
    }
   ],
   "source": [
    "amz_reviews_list #checking the reviews stored in the list"
   ]
  },
  {
   "cell_type": "markdown",
   "metadata": {},
   "source": [
    "##### converting the list into a dataframe"
   ]
  },
  {
   "cell_type": "code",
   "execution_count": 19,
   "metadata": {},
   "outputs": [],
   "source": [
    "import pandas as pd"
   ]
  },
  {
   "cell_type": "code",
   "execution_count": 20,
   "metadata": {},
   "outputs": [],
   "source": [
    "amz_reviews_df = pd.DataFrame(data = amz_reviews_list, columns = ['Reviews'])"
   ]
  },
  {
   "cell_type": "code",
   "execution_count": 21,
   "metadata": {},
   "outputs": [
    {
     "data": {
      "text/html": [
       "<div>\n",
       "<style scoped>\n",
       "    .dataframe tbody tr th:only-of-type {\n",
       "        vertical-align: middle;\n",
       "    }\n",
       "\n",
       "    .dataframe tbody tr th {\n",
       "        vertical-align: top;\n",
       "    }\n",
       "\n",
       "    .dataframe thead th {\n",
       "        text-align: right;\n",
       "    }\n",
       "</style>\n",
       "<table border=\"1\" class=\"dataframe\">\n",
       "  <thead>\n",
       "    <tr style=\"text-align: right;\">\n",
       "      <th></th>\n",
       "      <th>Reviews</th>\n",
       "    </tr>\n",
       "  </thead>\n",
       "  <tbody>\n",
       "    <tr>\n",
       "      <th>0</th>\n",
       "      <td>Over priced. And without charger too.Not rec...</td>\n",
       "    </tr>\n",
       "    <tr>\n",
       "      <th>1</th>\n",
       "      <td>Impressed! I’ve tested it with iphone11 and ...</td>\n",
       "    </tr>\n",
       "    <tr>\n",
       "      <th>2</th>\n",
       "      <td>This is the best iPhone yes. The Max model g...</td>\n",
       "    </tr>\n",
       "    <tr>\n",
       "      <th>3</th>\n",
       "      <td>Pros: Great display, battery, cameras, usabi...</td>\n",
       "    </tr>\n",
       "    <tr>\n",
       "      <th>4</th>\n",
       "      <td>\\n  Your browser does not support HTML5 video....</td>\n",
       "    </tr>\n",
       "  </tbody>\n",
       "</table>\n",
       "</div>"
      ],
      "text/plain": [
       "                                             Reviews\n",
       "0    Over priced. And without charger too.Not rec...\n",
       "1    Impressed! I’ve tested it with iphone11 and ...\n",
       "2    This is the best iPhone yes. The Max model g...\n",
       "3    Pros: Great display, battery, cameras, usabi...\n",
       "4  \\n  Your browser does not support HTML5 video...."
      ]
     },
     "execution_count": 21,
     "metadata": {},
     "output_type": "execute_result"
    }
   ],
   "source": [
    "amz_reviews_df.head()"
   ]
  },
  {
   "cell_type": "markdown",
   "metadata": {},
   "source": [
    "##### saving as a csv file"
   ]
  },
  {
   "cell_type": "code",
   "execution_count": 23,
   "metadata": {},
   "outputs": [],
   "source": [
    " amz_reviews_df.to_csv('amz_reviews.csv')"
   ]
  },
  {
   "cell_type": "code",
   "execution_count": null,
   "metadata": {},
   "outputs": [],
   "source": []
  }
 ],
 "metadata": {
  "kernelspec": {
   "display_name": "Python 3",
   "language": "python",
   "name": "python3"
  },
  "language_info": {
   "codemirror_mode": {
    "name": "ipython",
    "version": 3
   },
   "file_extension": ".py",
   "mimetype": "text/x-python",
   "name": "python",
   "nbconvert_exporter": "python",
   "pygments_lexer": "ipython3",
   "version": "3.8.3"
  }
 },
 "nbformat": 4,
 "nbformat_minor": 4
}
